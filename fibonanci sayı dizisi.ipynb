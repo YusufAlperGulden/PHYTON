{
 "cells": [
  {
   "metadata": {
    "ExecuteTime": {
     "end_time": "2025-07-17T06:36:40.016587Z",
     "start_time": "2025-07-17T06:36:40.006739Z"
    }
   },
   "cell_type": "code",
   "source": [
    "def fibonacci(n):\n",
    "    a = 0\n",
    "    b = 1\n",
    "    next = b\n",
    "    count = 0\n",
    "    while count <= n:\n",
    "        print(next, end=\" \")\n",
    "        count += 1\n",
    "        a, b = b, next\n",
    "        next = a + b\n",
    "\n",
    "fibonacci(100)"
   ],
   "id": "5ad406b6c71837d",
   "outputs": [
    {
     "name": "stdout",
     "output_type": "stream",
     "text": [
      "1 2 3 5 8 13 21 34 55 89 144 "
     ]
    }
   ],
   "execution_count": 4
  }
 ],
 "metadata": {
  "kernelspec": {
   "display_name": "Python 3",
   "language": "python",
   "name": "python3"
  },
  "language_info": {
   "codemirror_mode": {
    "name": "ipython",
    "version": 2
   },
   "file_extension": ".py",
   "mimetype": "text/x-python",
   "name": "python",
   "nbconvert_exporter": "python",
   "pygments_lexer": "ipython2",
   "version": "2.7.6"
  }
 },
 "nbformat": 4,
 "nbformat_minor": 5
}
