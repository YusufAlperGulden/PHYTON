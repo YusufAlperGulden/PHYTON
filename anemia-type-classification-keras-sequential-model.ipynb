{
 "cells": [
  {
   "cell_type": "code",
   "execution_count": 1,
   "id": "b94fd086",
   "metadata": {
    "_cell_guid": "b1076dfc-b9ad-4769-8c92-a6c4dae69d19",
    "_uuid": "8f2839f25d086af736a60e9eeb907d3b93b6e0e5",
    "execution": {
     "iopub.execute_input": "2025-08-03T18:46:10.561755Z",
     "iopub.status.busy": "2025-08-03T18:46:10.561336Z",
     "iopub.status.idle": "2025-08-03T18:46:12.651139Z",
     "shell.execute_reply": "2025-08-03T18:46:12.649925Z"
    },
    "papermill": {
     "duration": 2.096264,
     "end_time": "2025-08-03T18:46:12.653236",
     "exception": false,
     "start_time": "2025-08-03T18:46:10.556972",
     "status": "completed"
    },
    "tags": []
   },
   "outputs": [
    {
     "name": "stdout",
     "output_type": "stream",
     "text": [
      "/kaggle/input/anemia-types-classification/diagnosed_cbc_data_v4.csv\n"
     ]
    }
   ],
   "source": [
    "# This Python 3 environment comes with many helpful analytics libraries installed\n",
    "# It is defined by the kaggle/python Docker image: https://github.com/kaggle/docker-python\n",
    "# For example, here's several helpful packages to load\n",
    "\n",
    "import numpy as np # linear algebra\n",
    "import pandas as pd # data processing, CSV file I/O (e.g. pd.read_csv)\n",
    "\n",
    "# Input data files are available in the read-only \"../input/\" directory\n",
    "# For example, running this (by clicking run or pressing Shift+Enter) will list all files under the input directory\n",
    "\n",
    "import os\n",
    "for dirname, _, filenames in os.walk('/kaggle/input'):\n",
    "    for filename in filenames:\n",
    "        print(os.path.join(dirname, filename))\n",
    "\n",
    "# You can write up to 20GB to the current directory (/kaggle/working/) that gets preserved as output when you create a version using \"Save & Run All\" \n",
    "# You can also write temporary files to /kaggle/temp/, but they won't be saved outside of the current session"
   ]
  },
  {
   "cell_type": "code",
   "execution_count": 2,
   "id": "670eb5d9",
   "metadata": {
    "execution": {
     "iopub.execute_input": "2025-08-03T18:46:12.660413Z",
     "iopub.status.busy": "2025-08-03T18:46:12.659951Z",
     "iopub.status.idle": "2025-08-03T18:46:12.717075Z",
     "shell.execute_reply": "2025-08-03T18:46:12.716099Z"
    },
    "papermill": {
     "duration": 0.06224,
     "end_time": "2025-08-03T18:46:12.718594",
     "exception": false,
     "start_time": "2025-08-03T18:46:12.656354",
     "status": "completed"
    },
    "tags": []
   },
   "outputs": [
    {
     "data": {
      "text/html": [
       "<div>\n",
       "<style scoped>\n",
       "    .dataframe tbody tr th:only-of-type {\n",
       "        vertical-align: middle;\n",
       "    }\n",
       "\n",
       "    .dataframe tbody tr th {\n",
       "        vertical-align: top;\n",
       "    }\n",
       "\n",
       "    .dataframe thead th {\n",
       "        text-align: right;\n",
       "    }\n",
       "</style>\n",
       "<table border=\"1\" class=\"dataframe\">\n",
       "  <thead>\n",
       "    <tr style=\"text-align: right;\">\n",
       "      <th></th>\n",
       "      <th>WBC</th>\n",
       "      <th>LYMp</th>\n",
       "      <th>NEUTp</th>\n",
       "      <th>LYMn</th>\n",
       "      <th>NEUTn</th>\n",
       "      <th>RBC</th>\n",
       "      <th>HGB</th>\n",
       "      <th>HCT</th>\n",
       "      <th>MCV</th>\n",
       "      <th>MCH</th>\n",
       "      <th>MCHC</th>\n",
       "      <th>PLT</th>\n",
       "      <th>PDW</th>\n",
       "      <th>PCT</th>\n",
       "      <th>Diagnosis</th>\n",
       "    </tr>\n",
       "  </thead>\n",
       "  <tbody>\n",
       "    <tr>\n",
       "      <th>0</th>\n",
       "      <td>10.0</td>\n",
       "      <td>43.2</td>\n",
       "      <td>50.1</td>\n",
       "      <td>4.3</td>\n",
       "      <td>5.0</td>\n",
       "      <td>2.77</td>\n",
       "      <td>7.3</td>\n",
       "      <td>24.2</td>\n",
       "      <td>87.7</td>\n",
       "      <td>26.3</td>\n",
       "      <td>30.1</td>\n",
       "      <td>189.0</td>\n",
       "      <td>12.5</td>\n",
       "      <td>0.17</td>\n",
       "      <td>Normocytic hypochromic anemia</td>\n",
       "    </tr>\n",
       "    <tr>\n",
       "      <th>1</th>\n",
       "      <td>10.0</td>\n",
       "      <td>42.4</td>\n",
       "      <td>52.3</td>\n",
       "      <td>4.2</td>\n",
       "      <td>5.3</td>\n",
       "      <td>2.84</td>\n",
       "      <td>7.3</td>\n",
       "      <td>25.0</td>\n",
       "      <td>88.2</td>\n",
       "      <td>25.7</td>\n",
       "      <td>20.2</td>\n",
       "      <td>180.0</td>\n",
       "      <td>12.5</td>\n",
       "      <td>0.16</td>\n",
       "      <td>Normocytic hypochromic anemia</td>\n",
       "    </tr>\n",
       "    <tr>\n",
       "      <th>2</th>\n",
       "      <td>7.2</td>\n",
       "      <td>30.7</td>\n",
       "      <td>60.7</td>\n",
       "      <td>2.2</td>\n",
       "      <td>4.4</td>\n",
       "      <td>3.97</td>\n",
       "      <td>9.0</td>\n",
       "      <td>30.5</td>\n",
       "      <td>77.0</td>\n",
       "      <td>22.6</td>\n",
       "      <td>29.5</td>\n",
       "      <td>148.0</td>\n",
       "      <td>14.3</td>\n",
       "      <td>0.14</td>\n",
       "      <td>Iron deficiency anemia</td>\n",
       "    </tr>\n",
       "    <tr>\n",
       "      <th>3</th>\n",
       "      <td>6.0</td>\n",
       "      <td>30.2</td>\n",
       "      <td>63.5</td>\n",
       "      <td>1.8</td>\n",
       "      <td>3.8</td>\n",
       "      <td>4.22</td>\n",
       "      <td>3.8</td>\n",
       "      <td>32.8</td>\n",
       "      <td>77.9</td>\n",
       "      <td>23.2</td>\n",
       "      <td>29.8</td>\n",
       "      <td>143.0</td>\n",
       "      <td>11.3</td>\n",
       "      <td>0.12</td>\n",
       "      <td>Iron deficiency anemia</td>\n",
       "    </tr>\n",
       "    <tr>\n",
       "      <th>4</th>\n",
       "      <td>4.2</td>\n",
       "      <td>39.1</td>\n",
       "      <td>53.7</td>\n",
       "      <td>1.6</td>\n",
       "      <td>2.3</td>\n",
       "      <td>3.93</td>\n",
       "      <td>0.4</td>\n",
       "      <td>316.0</td>\n",
       "      <td>80.6</td>\n",
       "      <td>23.9</td>\n",
       "      <td>29.7</td>\n",
       "      <td>236.0</td>\n",
       "      <td>12.8</td>\n",
       "      <td>0.22</td>\n",
       "      <td>Normocytic hypochromic anemia</td>\n",
       "    </tr>\n",
       "  </tbody>\n",
       "</table>\n",
       "</div>"
      ],
      "text/plain": [
       "    WBC  LYMp  NEUTp  LYMn  NEUTn   RBC  HGB    HCT   MCV   MCH  MCHC    PLT  \\\n",
       "0  10.0  43.2   50.1   4.3    5.0  2.77  7.3   24.2  87.7  26.3  30.1  189.0   \n",
       "1  10.0  42.4   52.3   4.2    5.3  2.84  7.3   25.0  88.2  25.7  20.2  180.0   \n",
       "2   7.2  30.7   60.7   2.2    4.4  3.97  9.0   30.5  77.0  22.6  29.5  148.0   \n",
       "3   6.0  30.2   63.5   1.8    3.8  4.22  3.8   32.8  77.9  23.2  29.8  143.0   \n",
       "4   4.2  39.1   53.7   1.6    2.3  3.93  0.4  316.0  80.6  23.9  29.7  236.0   \n",
       "\n",
       "    PDW   PCT                      Diagnosis  \n",
       "0  12.5  0.17  Normocytic hypochromic anemia  \n",
       "1  12.5  0.16  Normocytic hypochromic anemia  \n",
       "2  14.3  0.14         Iron deficiency anemia  \n",
       "3  11.3  0.12         Iron deficiency anemia  \n",
       "4  12.8  0.22  Normocytic hypochromic anemia  "
      ]
     },
     "execution_count": 2,
     "metadata": {},
     "output_type": "execute_result"
    }
   ],
   "source": [
    "df=pd.read_csv('/kaggle/input/anemia-types-classification/diagnosed_cbc_data_v4.csv')\n",
    "df.head()"
   ]
  },
  {
   "cell_type": "code",
   "execution_count": 3,
   "id": "b83a6a5b",
   "metadata": {
    "execution": {
     "iopub.execute_input": "2025-08-03T18:46:12.725557Z",
     "iopub.status.busy": "2025-08-03T18:46:12.725256Z",
     "iopub.status.idle": "2025-08-03T18:46:12.731396Z",
     "shell.execute_reply": "2025-08-03T18:46:12.730537Z"
    },
    "papermill": {
     "duration": 0.011469,
     "end_time": "2025-08-03T18:46:12.732907",
     "exception": false,
     "start_time": "2025-08-03T18:46:12.721438",
     "status": "completed"
    },
    "tags": []
   },
   "outputs": [],
   "source": [
    "y=df['Diagnosis']#Her zaman 'y' tahmin etmek istediklerimizi simgeler.\n",
    "#df.head() yaptığımızda tabloda 'Diagnosis' sütununu görmüştük. Oradaki sütunu y'ye atıyoruz."
   ]
  },
  {
   "cell_type": "code",
   "execution_count": 4,
   "id": "1ec83ea5",
   "metadata": {
    "execution": {
     "iopub.execute_input": "2025-08-03T18:46:12.739968Z",
     "iopub.status.busy": "2025-08-03T18:46:12.739630Z",
     "iopub.status.idle": "2025-08-03T18:46:12.754464Z",
     "shell.execute_reply": "2025-08-03T18:46:12.753432Z"
    },
    "papermill": {
     "duration": 0.020517,
     "end_time": "2025-08-03T18:46:12.756397",
     "exception": false,
     "start_time": "2025-08-03T18:46:12.735880",
     "status": "completed"
    },
    "tags": []
   },
   "outputs": [],
   "source": [
    "x=df.drop('Diagnosis',axis=1)#Diagnosis'i atıyor ve geriye kalan hepsini x'e atıyoruz.\n",
    "#Her zaman 'x' değeri özellikler (features) gösterir.\n",
    "#axis=1 ekledim çünkü bu sütun bazında işlem yapılacağını belirtir. Bu olmadan hata verir."
   ]
  },
  {
   "cell_type": "code",
   "execution_count": 5,
   "id": "a352165e",
   "metadata": {
    "execution": {
     "iopub.execute_input": "2025-08-03T18:46:12.764409Z",
     "iopub.status.busy": "2025-08-03T18:46:12.763641Z",
     "iopub.status.idle": "2025-08-03T18:46:14.511042Z",
     "shell.execute_reply": "2025-08-03T18:46:14.509903Z"
    },
    "papermill": {
     "duration": 1.753655,
     "end_time": "2025-08-03T18:46:14.513274",
     "exception": false,
     "start_time": "2025-08-03T18:46:12.759619",
     "status": "completed"
    },
    "tags": []
   },
   "outputs": [],
   "source": [
    "from sklearn.preprocessing import LabelEncoder\n",
    "#LabelEncoder is used to convert categorical labels (like strings) into numeric values.\n",
    "le=LabelEncoder()#Creates an instance of the LabelEncoder class.\n",
    "y=le.fit_transform(y)#Learns the unique categories in y and converts those categories into numbers."
   ]
  },
  {
   "cell_type": "code",
   "execution_count": 6,
   "id": "1c76f39d",
   "metadata": {
    "execution": {
     "iopub.execute_input": "2025-08-03T18:46:14.523698Z",
     "iopub.status.busy": "2025-08-03T18:46:14.522567Z",
     "iopub.status.idle": "2025-08-03T18:46:14.532106Z",
     "shell.execute_reply": "2025-08-03T18:46:14.530948Z"
    },
    "papermill": {
     "duration": 0.015183,
     "end_time": "2025-08-03T18:46:14.533730",
     "exception": false,
     "start_time": "2025-08-03T18:46:14.518547",
     "status": "completed"
    },
    "tags": []
   },
   "outputs": [
    {
     "data": {
      "text/plain": [
       "array(['Macrocytic anemia'], dtype=object)"
      ]
     },
     "execution_count": 6,
     "metadata": {},
     "output_type": "execute_result"
    }
   ],
   "source": [
    "le.inverse_transform([4])#Reverse label encoding — converts numeric label back to its original categorical form."
   ]
  },
  {
   "cell_type": "code",
   "execution_count": 7,
   "id": "8342daa1",
   "metadata": {
    "execution": {
     "iopub.execute_input": "2025-08-03T18:46:14.541375Z",
     "iopub.status.busy": "2025-08-03T18:46:14.541055Z",
     "iopub.status.idle": "2025-08-03T18:46:33.063840Z",
     "shell.execute_reply": "2025-08-03T18:46:33.062775Z"
    },
    "papermill": {
     "duration": 18.52845,
     "end_time": "2025-08-03T18:46:33.065781",
     "exception": false,
     "start_time": "2025-08-03T18:46:14.537331",
     "status": "completed"
    },
    "tags": []
   },
   "outputs": [
    {
     "name": "stderr",
     "output_type": "stream",
     "text": [
      "2025-08-03 18:46:16.625225: E external/local_xla/xla/stream_executor/cuda/cuda_fft.cc:477] Unable to register cuFFT factory: Attempting to register factory for plugin cuFFT when one has already been registered\n",
      "WARNING: All log messages before absl::InitializeLog() is called are written to STDERR\n",
      "E0000 00:00:1754246776.891522      13 cuda_dnn.cc:8310] Unable to register cuDNN factory: Attempting to register factory for plugin cuDNN when one has already been registered\n",
      "E0000 00:00:1754246776.968074      13 cuda_blas.cc:1418] Unable to register cuBLAS factory: Attempting to register factory for plugin cuBLAS when one has already been registered\n"
     ]
    }
   ],
   "source": [
    "from tensorflow.keras.utils import to_categorical\n",
    "#Sayısal etiketleri one-hot encoding formatına çevirir. Bu format, özellikle Keras ile çok sınıflı sınıflandırma yaparken softmax aktivasyonlu çıkış katmanları için gereklidir.\n",
    "y=to_categorical(y)\n",
    "#convert your target labels y into one-hot encoded format, which is essential for multi-class classification tasks using neural networks like your Keras Sequential model."
   ]
  },
  {
   "cell_type": "code",
   "execution_count": 8,
   "id": "650101b1",
   "metadata": {
    "execution": {
     "iopub.execute_input": "2025-08-03T18:46:33.073896Z",
     "iopub.status.busy": "2025-08-03T18:46:33.072884Z",
     "iopub.status.idle": "2025-08-03T18:46:33.079925Z",
     "shell.execute_reply": "2025-08-03T18:46:33.078869Z"
    },
    "papermill": {
     "duration": 0.012402,
     "end_time": "2025-08-03T18:46:33.081379",
     "exception": false,
     "start_time": "2025-08-03T18:46:33.068977",
     "status": "completed"
    },
    "tags": []
   },
   "outputs": [
    {
     "data": {
      "text/plain": [
       "array([0., 0., 0., 0., 0., 1., 0., 0., 0.])"
      ]
     },
     "execution_count": 8,
     "metadata": {},
     "output_type": "execute_result"
    }
   ],
   "source": [
    "y[0]"
   ]
  },
  {
   "cell_type": "code",
   "execution_count": 9,
   "id": "d8703b61",
   "metadata": {
    "execution": {
     "iopub.execute_input": "2025-08-03T18:46:33.088977Z",
     "iopub.status.busy": "2025-08-03T18:46:33.088649Z",
     "iopub.status.idle": "2025-08-03T18:46:33.216427Z",
     "shell.execute_reply": "2025-08-03T18:46:33.215630Z"
    },
    "papermill": {
     "duration": 0.133616,
     "end_time": "2025-08-03T18:46:33.218187",
     "exception": false,
     "start_time": "2025-08-03T18:46:33.084571",
     "status": "completed"
    },
    "tags": []
   },
   "outputs": [],
   "source": [
    "from sklearn.model_selection import train_test_split\n",
    "\n",
    "x_train,x_test,y_train,y_test=train_test_split(x,y,train_size=0.75,random_state=43)"
   ]
  }
 ],
 "metadata": {
  "kaggle": {
   "accelerator": "none",
   "dataSources": [
    {
     "datasetId": 4994222,
     "sourceId": 8395079,
     "sourceType": "datasetVersion"
    }
   ],
   "dockerImageVersionId": 31089,
   "isGpuEnabled": false,
   "isInternetEnabled": true,
   "language": "python",
   "sourceType": "notebook"
  },
  "kernelspec": {
   "display_name": "Python 3",
   "language": "python",
   "name": "python3"
  },
  "language_info": {
   "codemirror_mode": {
    "name": "ipython",
    "version": 3
   },
   "file_extension": ".py",
   "mimetype": "text/x-python",
   "name": "python",
   "nbconvert_exporter": "python",
   "pygments_lexer": "ipython3",
   "version": "3.11.13"
  },
  "papermill": {
   "default_parameters": {},
   "duration": 31.249192,
   "end_time": "2025-08-03T18:46:36.649558",
   "environment_variables": {},
   "exception": null,
   "input_path": "__notebook__.ipynb",
   "output_path": "__notebook__.ipynb",
   "parameters": {},
   "start_time": "2025-08-03T18:46:05.400366",
   "version": "2.6.0"
  }
 },
 "nbformat": 4,
 "nbformat_minor": 5
}
